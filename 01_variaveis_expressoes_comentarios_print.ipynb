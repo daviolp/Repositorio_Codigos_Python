{
 "cells": [
  {
   "cell_type": "markdown",
   "metadata": {},
   "source": [
    "# Curso de Python Básico\n",
    "\n",
    "Este é um curso básico de python que tem o objetivo de apresentar a linguagem python de uma **maneira rápida e objetiva**. Vamos direto ao ponto nos conceitos básicos da programação e python com muita mão na massa! \n",
    "\n",
    "Neste curso, vamos trabalhar no **modo iterativo** do python. Porém, entenda que você pode trabalhar no modo script com várias linhas de código usando um arquivo no formato .py.\n",
    "\n",
    "Ao final desse Curso, espero que você se aprenda python e se motive cada vez mais em utilizar a linguagem para diversas tarefas e problemas do mundo real.\n",
    "\n",
    "Este notebook vai apenas passar pelos tópicos básicos em ordem:\n",
    "\n",
    "* 1. Conceitos Básicos\n",
    "    * 1.1 Variáveis\n",
    "    * 1.2 Comentários\n",
    "    * 1.3 Expressões\n",
    "    * 1.4 Imprimindo Valores"
   ]
  },
  {
   "cell_type": "markdown",
   "metadata": {},
   "source": [
    "##  1. Conceitos Básicos\n",
    "#### 1.1 Variáveis\n",
    "**Conceito**: Uma variável é um nome que se refere a um valor.\n",
    "\n",
    "***Regras básicas***:\n",
    "- Nomes de variáveis sempre devem começar por caractere alfabético\n",
    "- Podem conter letras e números\n",
    "- Não se pode iniciar uma variável com números ou carateres especiais (@, %, &, |, ...), \n",
    "- Não é necessário colocar o tipo da variável (Python é não tipada)\n",
    "- Não utilizar linguagem reservadas da linguagem (class, int, float, False, finally, return, lambda, else, elif, pass, assert, break, with, ...)\n",
    "- A declaração é case sensitive, ou seja, a variável \"Nome\" é diferente de \"nome\""
   ]
  },
  {
   "cell_type": "code",
   "execution_count": null,
   "metadata": {
    "ExecuteTime": {
     "end_time": "2022-05-14T14:14:01.261000Z",
     "start_time": "2022-05-14T14:14:01.247997Z"
    }
   },
   "outputs": [],
   "source": [
    "nome_da_variave = 2"
   ]
  },
  {
   "cell_type": "code",
   "execution_count": null,
   "metadata": {
    "ExecuteTime": {
     "end_time": "2022-05-14T14:14:01.618400Z",
     "start_time": "2022-05-14T14:14:01.615399Z"
    }
   },
   "outputs": [],
   "source": [
    "mensagem = \"Esta é mais uma aula do curso de python\""
   ]
  },
  {
   "cell_type": "code",
   "execution_count": null,
   "metadata": {
    "ExecuteTime": {
     "end_time": "2022-05-14T14:14:01.975436Z",
     "start_time": "2022-05-14T14:14:01.967435Z"
    }
   },
   "outputs": [],
   "source": [
    "@_variavel_1"
   ]
  },
  {
   "cell_type": "code",
   "execution_count": null,
   "metadata": {
    "ExecuteTime": {
     "end_time": "2022-05-14T14:14:06.615335Z",
     "start_time": "2022-05-14T14:14:06.600335Z"
    }
   },
   "outputs": [],
   "source": [
    "m@is = 2"
   ]
  },
  {
   "cell_type": "code",
   "execution_count": null,
   "metadata": {
    "ExecuteTime": {
     "end_time": "2022-05-14T14:14:06.865469Z",
     "start_time": "2022-05-14T14:14:06.855470Z"
    }
   },
   "outputs": [],
   "source": [
    "class = 55"
   ]
  },
  {
   "cell_type": "markdown",
   "metadata": {},
   "source": [
    "#### 1.2 Expressão\n",
    "**Conceito**: É uma combinação de valores, variáveis e operadores. Um valor por si só já é considerado uma expressão, portanto, nos códigos acimas temos variáveis empressões"
   ]
  },
  {
   "cell_type": "code",
   "execution_count": null,
   "metadata": {
    "ExecuteTime": {
     "end_time": "2022-05-14T14:14:09.374380Z",
     "start_time": "2022-05-14T14:14:09.360445Z"
    }
   },
   "outputs": [],
   "source": [
    "x = 2\n",
    "y = 3\n",
    "z = x + y"
   ]
  },
  {
   "cell_type": "code",
   "execution_count": null,
   "metadata": {
    "ExecuteTime": {
     "end_time": "2022-05-14T14:14:09.621084Z",
     "start_time": "2022-05-14T14:14:09.599587Z"
    }
   },
   "outputs": [],
   "source": [
    "z"
   ]
  },
  {
   "cell_type": "markdown",
   "metadata": {},
   "source": [
    "#### 1.3 Comentários\n",
    "\n",
    "Texto que escrevemos junto com código que não é executado. Usamos comentários para indicar a função do código, operação e documentação."
   ]
  },
  {
   "cell_type": "code",
   "execution_count": 8,
   "metadata": {
    "ExecuteTime": {
     "end_time": "2022-05-14T14:14:11.845175Z",
     "start_time": "2022-05-14T14:14:11.832174Z"
    }
   },
   "outputs": [],
   "source": [
    "# Este é um comentários curto"
   ]
  },
  {
   "cell_type": "code",
   "execution_count": null,
   "metadata": {
    "ExecuteTime": {
     "end_time": "2022-05-14T14:14:14.328146Z",
     "start_time": "2022-05-14T14:14:14.320144Z"
    }
   },
   "outputs": [],
   "source": [
    "'''\n",
    "Este comentário composto\n",
    "pode conter multiplas linhas\n",
    "fdfdf\n",
    "\n",
    "'''"
   ]
  },
  {
   "cell_type": "markdown",
   "metadata": {},
   "source": [
    "#### 1.4 Imprimindo valores"
   ]
  },
  {
   "cell_type": "code",
   "execution_count": null,
   "metadata": {
    "ExecuteTime": {
     "end_time": "2022-05-14T14:14:16.696988Z",
     "start_time": "2022-05-14T14:14:16.687988Z"
    }
   },
   "outputs": [],
   "source": [
    "nome = 'João'\n",
    "idade = 50\n",
    "salario = 50000.00"
   ]
  },
  {
   "cell_type": "code",
   "execution_count": null,
   "metadata": {
    "ExecuteTime": {
     "end_time": "2022-05-14T14:14:17.174508Z",
     "start_time": "2022-05-14T14:14:17.167508Z"
    }
   },
   "outputs": [],
   "source": [
    "verdade = False"
   ]
  },
  {
   "cell_type": "code",
   "execution_count": null,
   "metadata": {
    "ExecuteTime": {
     "end_time": "2022-05-14T14:14:17.390519Z",
     "start_time": "2022-05-14T14:14:17.383517Z"
    }
   },
   "outputs": [],
   "source": [
    "print(nome)"
   ]
  },
  {
   "cell_type": "code",
   "execution_count": null,
   "metadata": {
    "ExecuteTime": {
     "end_time": "2022-05-14T14:14:17.579151Z",
     "start_time": "2022-05-14T14:14:17.576149Z"
    }
   },
   "outputs": [],
   "source": [
    "print(idade)"
   ]
  },
  {
   "cell_type": "code",
   "execution_count": null,
   "metadata": {
    "ExecuteTime": {
     "end_time": "2022-05-14T14:14:17.749289Z",
     "start_time": "2022-05-14T14:14:17.736290Z"
    }
   },
   "outputs": [],
   "source": [
    "# Usando separador\n",
    "print('Nicksson', 'Arrais', \"Sq3\", sep='_')"
   ]
  },
  {
   "cell_type": "code",
   "execution_count": null,
   "metadata": {
    "ExecuteTime": {
     "end_time": "2022-05-14T14:14:17.904323Z",
     "start_time": "2022-05-14T14:14:17.895323Z"
    }
   },
   "outputs": [],
   "source": [
    "# Usando format\n",
    "print('Meu nome é: {var1}, e minha idade é: {var2}'.format(var2=idade,var1=nome))"
   ]
  },
  {
   "cell_type": "code",
   "execution_count": null,
   "metadata": {
    "ExecuteTime": {
     "end_time": "2022-05-14T14:14:18.075300Z",
     "start_time": "2022-05-14T14:14:18.063668Z"
    }
   },
   "outputs": [],
   "source": [
    "# Usando format\n",
    "print('Meu nome é: {}, e minha idade é: {}'.format(idade, nome))"
   ]
  },
  {
   "cell_type": "code",
   "execution_count": null,
   "metadata": {
    "ExecuteTime": {
     "end_time": "2022-05-14T14:14:18.556064Z",
     "start_time": "2022-05-14T14:14:18.552064Z"
    }
   },
   "outputs": [],
   "source": [
    "# Usando format\n",
    "print(f'Eu sou o {nome} e eu tenho {idade} anos')"
   ]
  },
  {
   "cell_type": "code",
   "execution_count": null,
   "metadata": {
    "ExecuteTime": {
     "end_time": "2022-05-14T14:14:18.770743Z",
     "start_time": "2022-05-14T14:14:18.760742Z"
    },
    "scrolled": true
   },
   "outputs": [],
   "source": [
    "print('Oi {}, {}'.format(nome, idade))"
   ]
  },
  {
   "cell_type": "markdown",
   "metadata": {},
   "source": [
    "## Agora é a sua vez!\n",
    "\n",
    "1) Crie um programa que receba seu nome, idade, telefone, salário e endereço e imprima uma saída desejada. \n",
    "\n",
    "Saída: Eu sou {NOME}, eu tenho {IDADE}, você pode me contatar no número {TELEFONE} ou me visitar no endereço {ENDERECO}. Meu salário atual circula em torno de {SALARIO}.\n"
   ]
  },
  {
   "cell_type": "code",
   "execution_count": null,
   "metadata": {},
   "outputs": [],
   "source": [
    "nome = input(\"Digite seu Nome: \")\n",
    "idade = input(\"Digite sua Idade: \")\n",
    "telefone = input(\"Digite seu Telefone: \")\n",
    "salario = input(\"Digite seu Salário: \")\n",
    "endereco = input(\"Digite seu Endereço: \")\n",
    "\n",
    "\n",
    "\n",
    "print(\"----------------------------------------------------------------------\")\n",
    "print(f'Eu sou {nome}, eu tenho {idade}, você pode me contatar no número {telefone} ou me visitar no endereço {endereco}. Meu salário atual circula em torno de {salario}.')"
   ]
  },
  {
   "cell_type": "code",
   "execution_count": null,
   "metadata": {},
   "outputs": [],
   "source": []
  }
 ],
 "metadata": {
  "kernelspec": {
   "display_name": "Python 3",
   "language": "python",
   "name": "python3"
  },
  "language_info": {
   "codemirror_mode": {
    "name": "ipython",
    "version": 3
   },
   "file_extension": ".py",
   "mimetype": "text/x-python",
   "name": "python",
   "nbconvert_exporter": "python",
   "pygments_lexer": "ipython3",
   "version": "3.8.10"
  }
 },
 "nbformat": 4,
 "nbformat_minor": 4
}
