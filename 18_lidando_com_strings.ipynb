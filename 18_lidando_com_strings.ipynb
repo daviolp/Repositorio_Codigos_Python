{
 "cells": [
  {
   "cell_type": "markdown",
   "metadata": {},
   "source": [
    "# Curso de Python Básico\n",
    "\n",
    "Este é um curso básico de python que tem o objetivo de apresentar a linguagem python de uma **maneira rápida e objetiva**. Vamos direto ao ponto nos conceitos básicos da programação e python com muita mão na massa! \n",
    "\n",
    "Neste curso, vamos trabalhar no **modo iterativo** do python. Porém, entenda que você pode trabalhar no modo script com várias linhas de código usando um arquivo no formato .py.\n",
    "\n",
    "Ao final desse Curso, espero que você se aprenda python e se motive cada vez mais em utilizar a linguagem para diversas tarefas e problemas do mundo real.\n",
    "\n",
    "Este notebook vai apenas passar pelos tópicos básicos em ordem:\n",
    "\n",
    "* 8. Python intermediário\n",
    "    * 8.4 Lidando com String  "
   ]
  },
  {
   "cell_type": "markdown",
   "metadata": {},
   "source": [
    "#### 8.5 Lidando com String\n",
    "\n",
    "Uma String é uma sequência de caractéres. Você pode acessar um caractere cada vez com o operador []"
   ]
  },
  {
   "cell_type": "markdown",
   "metadata": {},
   "source": [
    "##### 8.5.1 Acessando String"
   ]
  },
  {
   "cell_type": "code",
   "execution_count": null,
   "metadata": {
    "ExecuteTime": {
     "end_time": "2022-06-20T14:04:17.114533Z",
     "start_time": "2022-06-20T14:04:17.100494Z"
    }
   },
   "outputs": [],
   "source": [
    "nome = 'Nicksson'"
   ]
  },
  {
   "cell_type": "code",
   "execution_count": null,
   "metadata": {
    "ExecuteTime": {
     "end_time": "2022-06-20T14:04:17.132497Z",
     "start_time": "2022-06-20T14:04:17.116494Z"
    }
   },
   "outputs": [],
   "source": [
    "nome[0]"
   ]
  },
  {
   "cell_type": "code",
   "execution_count": null,
   "metadata": {
    "ExecuteTime": {
     "end_time": "2022-06-20T14:04:17.142494Z",
     "start_time": "2022-06-20T14:04:17.134500Z"
    }
   },
   "outputs": [],
   "source": [
    "# fatiamento de string\n",
    "nome[-3:]"
   ]
  },
  {
   "cell_type": "code",
   "execution_count": null,
   "metadata": {
    "ExecuteTime": {
     "end_time": "2022-06-20T14:04:40.373876Z",
     "start_time": "2022-06-20T14:04:40.365874Z"
    }
   },
   "outputs": [],
   "source": [
    "# String são imutáveis\n",
    "nome[0] = 'P'"
   ]
  },
  {
   "cell_type": "markdown",
   "metadata": {},
   "source": [
    "##### 8.5.2 Loops em String"
   ]
  },
  {
   "cell_type": "code",
   "execution_count": null,
   "metadata": {
    "ExecuteTime": {
     "end_time": "2022-06-20T14:04:17.701531Z",
     "start_time": "2022-06-20T14:04:17.701531Z"
    }
   },
   "outputs": [],
   "source": [
    "def count_word(letter, texto):\n",
    "    count = 0\n",
    "    for c in texto:\n",
    "        if c == letter:\n",
    "            count = count + 1\n",
    "    print(count)"
   ]
  },
  {
   "cell_type": "code",
   "execution_count": null,
   "metadata": {
    "ExecuteTime": {
     "end_time": "2022-06-20T14:04:17.703496Z",
     "start_time": "2022-06-20T14:04:17.703496Z"
    }
   },
   "outputs": [],
   "source": [
    "count_word('a', 'padaria')"
   ]
  },
  {
   "cell_type": "markdown",
   "metadata": {},
   "source": [
    "##### 8.5.3 Operador in "
   ]
  },
  {
   "cell_type": "code",
   "execution_count": null,
   "metadata": {
    "ExecuteTime": {
     "end_time": "2022-06-20T14:04:17.916505Z",
     "start_time": "2022-06-20T14:04:17.908505Z"
    }
   },
   "outputs": [],
   "source": [
    "'nick' in 'nicksson'"
   ]
  },
  {
   "cell_type": "code",
   "execution_count": null,
   "metadata": {
    "ExecuteTime": {
     "end_time": "2022-06-20T14:04:18.393499Z",
     "start_time": "2022-06-20T14:04:18.389511Z"
    }
   },
   "outputs": [],
   "source": [
    "'ss' not in 'nicksson'"
   ]
  },
  {
   "cell_type": "markdown",
   "metadata": {},
   "source": [
    "##### 8.5.4 Buscando palavras em String"
   ]
  },
  {
   "cell_type": "code",
   "execution_count": null,
   "metadata": {
    "ExecuteTime": {
     "end_time": "2022-06-20T14:04:19.086501Z",
     "start_time": "2022-06-20T14:04:19.083539Z"
    }
   },
   "outputs": [],
   "source": [
    "word = 'fruta'"
   ]
  },
  {
   "cell_type": "code",
   "execution_count": null,
   "metadata": {
    "ExecuteTime": {
     "end_time": "2022-06-20T14:04:19.426497Z",
     "start_time": "2022-06-20T14:04:19.422498Z"
    }
   },
   "outputs": [],
   "source": [
    "word.find('a')"
   ]
  },
  {
   "cell_type": "markdown",
   "metadata": {},
   "source": [
    "##### 8.5.5 Upper e Lower"
   ]
  },
  {
   "cell_type": "code",
   "execution_count": null,
   "metadata": {
    "ExecuteTime": {
     "end_time": "2022-06-20T14:04:20.116538Z",
     "start_time": "2022-06-20T14:04:20.109540Z"
    }
   },
   "outputs": [],
   "source": [
    "word.upper()"
   ]
  },
  {
   "cell_type": "code",
   "execution_count": null,
   "metadata": {
    "ExecuteTime": {
     "end_time": "2022-06-20T14:04:20.406871Z",
     "start_time": "2022-06-20T14:04:20.400867Z"
    }
   },
   "outputs": [],
   "source": [
    "word.lower()"
   ]
  },
  {
   "cell_type": "markdown",
   "metadata": {},
   "source": [
    "##### 8.5.6 Split"
   ]
  },
  {
   "cell_type": "code",
   "execution_count": null,
   "metadata": {
    "ExecuteTime": {
     "end_time": "2022-06-20T14:04:21.042873Z",
     "start_time": "2022-06-20T14:04:21.038871Z"
    }
   },
   "outputs": [],
   "source": [
    "texto = 'você vai? Eu preciso ir?'"
   ]
  },
  {
   "cell_type": "code",
   "execution_count": null,
   "metadata": {
    "ExecuteTime": {
     "end_time": "2022-06-20T14:04:21.363868Z",
     "start_time": "2022-06-20T14:04:21.358868Z"
    }
   },
   "outputs": [],
   "source": [
    "texto.split('?')"
   ]
  },
  {
   "cell_type": "code",
   "execution_count": null,
   "metadata": {},
   "outputs": [],
   "source": []
  },
  {
   "cell_type": "markdown",
   "metadata": {},
   "source": [
    "# Agora é sua vez!"
   ]
  },
  {
   "cell_type": "markdown",
   "metadata": {},
   "source": [
    "**1) Faça um programa que leia 2 strings e informe o conteúdo delas seguido do seu comprimento. Informe também se as duas strings possuem o mesmo comprimento e são iguais ou diferentes no conteúdo.**\n",
    "\n",
    "Exemplo:\n",
    "- String 1: Brasil Hexa 2006\n",
    "- String 2: Brasil! Hexa 2006!\n",
    "- Tamanho de \"Brasil Hexa 2006\": 16 caracteres\n",
    "- Tamanho de \"Brasil! Hexa 2006!\": 18 caracteres\n",
    "- As duas strings são de tamanhos diferentes.\n",
    "- As duas strings possuem conteúdo diferente."
   ]
  },
  {
   "cell_type": "code",
   "execution_count": null,
   "metadata": {},
   "outputs": [],
   "source": [
    "menu = '''\n",
    "\n",
    "    BEM-VINDO AO INFORMAÇÕES DE SUAS FRASES!!!\n",
    "        \n",
    "    VOCÊ GOSTARIA DE REALIZAR QUAIS VERIFICAÇÕES PARA SUAS PALAVRAS?\n",
    "        \n",
    "    DIGITE ('1') SE VOCÊ QUISER VERIFICAR SE ELAS TEM O MESMO TAMANHO!\n",
    "    DIGITE ('2') SE VOCÊ QUISER VERIFICAR SE ELAS TEM O MESMO CONTEÚDO!\n",
    "\n",
    "'''\n",
    "n = 0\n",
    "\n",
    "while n <= 3:\n",
    "    stri1 = input('Digite a frase e vou comparar para ver se são parecidas: ')\n",
    "    stri2 = input('Digite a segunda frase e vou comparar com a primeira para ver se são parecidas: ')\n",
    "\n",
    "    tam_stri1 = len(stri1)\n",
    "    tam_stri2 = len(stri2)\n",
    "    \n",
    "    print(menu)\n",
    "    op = int(input('Digite aqui: '))\n",
    "    \n",
    "    if op == 1:\n",
    "        if tam_stri1 != tam_stri2:\n",
    "            print(f'A sua 1º frase contém {tam_stri1} caracteres')\n",
    "            print(f'A sua 2º frase contém {tam_stri2} caracteres')\n",
    "            print(f'Elas são tamanhos diferentes viu!')\n",
    "            print(f'---------------------------')\n",
    "            n += 1\n",
    "        else:\n",
    "            print(f'---------------------------')\n",
    "            print(f'Elas são iguais')\n",
    "            print(f'---------------------------')\n",
    "            n += 1\n",
    "    elif op == 2:\n",
    "        if stri1 != stri2:\n",
    "            print(f'---------------------------')\n",
    "            print(f'Elas tem conteúdos diferentes viu!')\n",
    "            print(f'---------------------------')\n",
    "            n += 1\n",
    "        else:\n",
    "            print(f'---------------------------')\n",
    "            print(f'Elas compartilham do mesmo conteudo!')\n",
    "            print(f'---------------------------')\n",
    "            n += 1\n",
    "    if n == 3:\n",
    "        op_c = int(input('Você deseja continuar? se sim digite 1 senão 2'))\n",
    "        if op_c == 1:\n",
    "            n = 0\n",
    "        if op_c == 2:\n",
    "            break"
   ]
  },
  {
   "cell_type": "markdown",
   "metadata": {},
   "source": [
    "**2) Jogo de Forca. Desenvolva um jogo da forca. O programa terá uma lista de palavras lidas de um arquivo texto (ou em uma sequência de string) e escolherá uma aleatoriamente. O jogador poderá errar 6 vezes antes de ser enforcado.**\n",
    "\n",
    "Exemplo:\n",
    "\n",
    "- Digite uma letra: A\n",
    "- Você errou pela 1ª vez. Tente de novo!\n",
    "\n",
    "------------------------------\n",
    "\n",
    "- Digite uma letra: O\n",
    "- A palavra é: _ _ _ _ O\n",
    "\n",
    "\n",
    "- Digite uma letra: E\n",
    "- A palavra é: _ E _ _ O\n",
    "\n",
    "------------------------------\n",
    "\n",
    "- Digite uma letra: S\n",
    "- Você errou pela 2ª vez. Tente de novo!"
   ]
  },
  {
   "cell_type": "code",
   "execution_count": null,
   "metadata": {},
   "outputs": [],
   "source": [
    "from random import choice\n",
    "\n",
    "vocabulario = [\"esquistossomose\", \"naftalina\", \"ribonucleico\", \"idiossincratico\", \"fagocitose\", \"quinquagesimo\"]\n",
    "\n",
    "palavra = choice(vocabulario)\n",
    "\n",
    "print(\"JOGO DA FORCA\")\n",
    "print(\"Bem vindo ao JOGO DA FORCA. Boa sorte!\\n\")\n",
    "\n",
    "chances = 6\n",
    "alfabeto = list(\"abdcefghijklmnopqrstuvwxyz\")\n",
    "tentativas = []\n",
    "\n",
    "while True:\n",
    "    print(tentativas)\n",
    "    print(\"Chances: \",chances)\n",
    "\n",
    "    for letra in palavra:\n",
    "        if letra in tentativas:\n",
    "            print(letra, end = ' ')\n",
    "        else:\n",
    "            print('_', end= ' ')\n",
    "\n",
    "    palpite = input(\"\\nDigite seu palpite ou 'SAIR' para sair do programa!\").lower()\n",
    "    if palpite == \"sair\":\n",
    "        break\n",
    "    elif palpite not in alfabeto or palpite == '':\n",
    "        print(\"Hein!? Fala direito! Isso não é uma letra!\")\n",
    "        continue\n",
    "    elif palpite in tentativas:\n",
    "        print(\"Você é desmemoriado ou o quê!? Você já tentou essa letra. Tente outra!\")\n",
    "        continue\n",
    "    tentativas.append(palpite)\n",
    "    if palpite in palavra:\n",
    "        print(\"ACERTÔ, MIZERAVI!\")\n",
    "    else:\n",
    "        print(\"Errou feio, errou rude!\")\n",
    "        chances -=1\n",
    "    if chances == 0:\n",
    "        print(\"Perdeu, pivete! Game over!!! >:)\")\n",
    "        break\n",
    "    elif set(palavra).issubset(set(tentativas)):\n",
    "        print(\"Parabéns, você acertou! Weeee are the champions, my frieeeend!\")\n",
    "        break"
   ]
  },
  {
   "cell_type": "markdown",
   "metadata": {
    "ExecuteTime": {
     "end_time": "2022-06-20T14:12:32.916101Z",
     "start_time": "2022-06-20T14:12:32.908102Z"
    }
   },
   "source": [
    "**3) Faca um programa que, dada uma string, diga se ela é um palíndromo ou não. Lembrando que um palíndromo é uma palavra que tenha a propriedade de poder ser lida tanto da direita para a esquerda como da esquerda para a direita**\n",
    "- Exemplos:\n",
    "    - ovo \n",
    "    - arara \n",
    "    - Socorram-me, subi no onibus em Marrocos. \n",
    "    - Anotaram a data da maratona"
   ]
  },
  {
   "cell_type": "code",
   "execution_count": null,
   "metadata": {},
   "outputs": [],
   "source": [
    "palavra = input((\"Digite sua palavra: \"))\n",
    "\n",
    "if str(palavra) == \"\".join(reversed(palavra)) :\n",
    "    print(\"Palíndromo\")\n",
    "else:\n",
    "    print(\"Não é Palíndromo\")"
   ]
  },
  {
   "cell_type": "markdown",
   "metadata": {},
   "source": [
    "**4) Faca um programa que encontre o conjunto de 5 dígitos consecutivos na sequência abaixo que gera o maior produto**"
   ]
  },
  {
   "cell_type": "code",
   "execution_count": 3,
   "metadata": {
    "ExecuteTime": {
     "end_time": "2022-06-20T14:16:33.552012Z",
     "start_time": "2022-06-20T14:16:33.548010Z"
    }
   },
   "outputs": [],
   "source": [
    "sequencia = \\\n",
    "'''\n",
    "    73167176531330624919225119674426574742355349194934969835203127745063262\n",
    "    39578318016984801869478851843 85861560789112949495459501737958331952853\n",
    "    20880551112540698747158523863050715693290963295227443043557668966489504\n",
    "    45244523161731856403098711121722383113622298934233803081353362766142828\n",
    "    06444486645238749303589072962904915604407723907138105158593079608667017\n",
    "    2427121883998797908792274921901699720888093776 657273330010533678812202\n",
    "    35421809751254540594752243525849077116705560136048395864467063244157221\n",
    "    55397536978179778461740649551492908625693219784686224828397224137565705\n",
    "    6057490261407972968652414535100474 821663704844031998900088952434506585\n",
    "    41227588666881164271714799244429282308634656748139191231628245861786645\n",
    "    83591245665294765456828489128831426076900422421902267105562632111110937\n",
    "    0544217506941658960408 071984038509624554443629812309878799272442849091\n",
    "    88 84580156166097919133875499200524063689912560717606058861164671094050\n",
    "    77541002256983155200055935729725716362695618826704282524836008232575304\n",
    "'''"
   ]
  },
  {
   "cell_type": "code",
   "execution_count": 4,
   "metadata": {
    "ExecuteTime": {
     "end_time": "2022-06-20T14:16:24.719515Z",
     "start_time": "2022-06-20T14:16:24.714507Z"
    }
   },
   "outputs": [
    {
     "data": {
      "text/plain": [
       "('99879', 40824)"
      ]
     },
     "execution_count": 4,
     "metadata": {},
     "output_type": "execute_result"
    }
   ],
   "source": [
    "def contar_conju(sequencia):\n",
    "    sequencia = sequencia.replace('\\n', '')\n",
    "    sequencia = sequencia.replace(' ', '')\n",
    "\n",
    "    total = 0\n",
    "    seq = ''\n",
    "\n",
    "    ini = 0\n",
    "    fim = 5\n",
    "    while fim < len(sequencia):\n",
    "        try:\n",
    "            sub = sequencia[ini:fim]\n",
    "        except:\n",
    "            break\n",
    "        mult = 1\n",
    "        for i in sub:\n",
    "            mult *= int(i)\n",
    "\n",
    "        if mult > total:\n",
    "            total = mult\n",
    "            seq = sub\n",
    "        ini+=1\n",
    "        fim+=1\n",
    "\n",
    "    return seq, total\n",
    "\n",
    "contar_conju(sequencia)"
   ]
  },
  {
   "cell_type": "markdown",
   "metadata": {},
   "source": [
    "**5) Desenvolva uma função que ira contar a ocorrência de palavras em um texto**\n",
    "\n",
    "- Exemplo: \n",
    "    - palavra='covid'\n",
    "    - há 6 ocorrências"
   ]
  },
  {
   "cell_type": "code",
   "execution_count": 34,
   "metadata": {
    "ExecuteTime": {
     "end_time": "2022-06-20T14:52:55.311230Z",
     "start_time": "2022-06-20T14:52:55.304255Z"
    }
   },
   "outputs": [],
   "source": [
    "texto = '''\n",
    "11 de agosto de 2020 — A pandemia de covid-19, que matou mais de 390 mil pessoas nas Américas, \n",
    "está ameaçando os planos regionais para eliminar e controlar doenças infecciosas, incluindo tuberculose,\n",
    "HIV e hepatites, disse nesta terça-feira (11) Carissa F. Etienne, diretora da OPAS.\n",
    "Com mais de 10,5 milhões de casos de COVID-19 nas Américas e 100 mil novos casos sendo notificados todos os dias,\n",
    "“os países não podem atrasar a luta contra COVID-19, mas não devem permitir que a doença nos atrase para completar\n",
    "a agenda inacabada de eliminar e controlar as doenças infecciosas em nossa região”, afirmou Etienne em coletiva\n",
    "de imprensa. Desafios na distribuição de tratamentos de TB durante a pandemia foram relatados por 80% \n",
    "dos países da América Latina e do Caribe, o que poderia transformar casos controláveis de TB em infecções ativas.\n",
    "Da mesma forma, 30% das pessoas que vivem com HIV evitam procurar atendimento e os medicamentos antirretrovirais \n",
    "são limitados. Interrupções nos exames de hepatites, chave para detecção e tratamento, também foram relatadas\n",
    "por um terço dos países. A diretora da OPAS lembrou que a prevenção e o tratamento de doenças infecciosas \n",
    "foram o ímpeto para a criação da Organização Pan-Americana da Saúde há quase 120 anos e que a região continua \n",
    "“na vanguarda da eliminação de doenças infecciosas”. De fato, em outubro de 2019, os Estados Membros da \n",
    "OPAS se comprometeram com um enfoque regional para a eliminação de mais de 30 doenças transmissíveis e condições \n",
    "relacionadas nas Américas até 2030. Mas “o progresso para alcançar este marco está agora ameaçado devido à \n",
    "carga da COVID-19 nos sistemas de saúde e à interrupção dos serviços essenciais, incluindo programas \n",
    "prioritários de controle de doenças, iniciativas de eliminação e imunização de rotina”, observou Etienne.\n",
    "A pandemia também interrompeu as campanhas de administração de medicamentos em massa que são vitais para os\n",
    "esforços de eliminação “exatamente quando estávamos fazendo um progresso significativo contra doenças \n",
    "tropicais negligenciadas como filariose linfática, esquistossomose e helmintíases transmitidas pelo solo”, pontuou a diretora da OPAS.\n",
    "A dengue e a malária continuam sendo uma grande carga para os serviços de saúde e, como a COVID-19, têm um \n",
    "impacto desproporcional nas populações pobres e vulneráveis, incluindo as comunidades indígenas, acrescentou.\n",
    "A diretora da OPAS relevou ainda que, “nos primeiros dois meses de 2020, as Américas relataram um aumento de \n",
    "139% nos casos de dengue em comparação ao mesmo período de 2019. No entanto, desde que a COVID-19 atingiu\n",
    "nossa região em março, os casos notificados de dengue diminuíram”.\n",
    "As notificações de doenças transmitidas por mosquitos, como a malária, “caíram mais de 40%, e houve uma \n",
    "redução observada no número de pessoas fazendo o teste. No entanto, sabemos que esses dados não contam a \n",
    "história completa”, disse Etienne. A diretora da OPAS explicou que, “embora seja verdade que, como muitos\n",
    "de nós estamos presos em casa, estamos menos propensos a ser picados por mosquitos, a realidade é que os \n",
    "mosquitos e os patógenos que eles transmitem ainda estão circulando. E sem testes ou tratamento, os \n",
    "casos graves de doenças transmitidas por mosquitos podem ir de condições facilmente tratáveis à morte”.\n",
    "Etienne disse que os sistemas de saúde devem tornar mais fácil para os pacientes receber cuidados, \n",
    "“aproveitando a telemedicina e oferecendo cuidados fora dos ambientes hospitalares, por meio de programas \n",
    "de extensão à comunidade e visitas domiciliares, por exemplo”.\n",
    "Os sistemas de saúde também precisam proteger os profissionais de saúde na linha de frente desta pandemia.\n",
    "“Nossos médicos, enfermeiras e equipe devem ter o equipamento de proteção, suprimentos e tecnologias de que precisam para oferecer cuidados com segurança” e garantir que os pacientes possam continuar a receber atenção médica e os medicamentos para gerenciar com segurança suas condições”.\n",
    "'''"
   ]
  },
  {
   "cell_type": "code",
   "execution_count": 56,
   "metadata": {},
   "outputs": [
    {
     "data": {
      "text/plain": [
       "'1 ocorrências'"
      ]
     },
     "execution_count": 56,
     "metadata": {},
     "output_type": "execute_result"
    }
   ],
   "source": [
    "def verificando_palavra(palavra, texto):\n",
    "    count = 0\n",
    "    for ocorrencia in texto.split():\n",
    "        #ocorrencia = ocorrencia.replace(',',\" \")\n",
    "        if ocorrencia == palavra:\n",
    "            count = count + 1\n",
    "    return(f'{count} ocorrências')\n",
    "\n",
    "verificando_palavra('covid-19,', texto)"
   ]
  },
  {
   "cell_type": "code",
   "execution_count": null,
   "metadata": {},
   "outputs": [],
   "source": []
  }
 ],
 "metadata": {
  "kernelspec": {
   "display_name": "Python 3 (ipykernel)",
   "language": "python",
   "name": "python3"
  },
  "language_info": {
   "codemirror_mode": {
    "name": "ipython",
    "version": 3
   },
   "file_extension": ".py",
   "mimetype": "text/x-python",
   "name": "python",
   "nbconvert_exporter": "python",
   "pygments_lexer": "ipython3",
   "version": "3.9.12"
  }
 },
 "nbformat": 4,
 "nbformat_minor": 4
}
