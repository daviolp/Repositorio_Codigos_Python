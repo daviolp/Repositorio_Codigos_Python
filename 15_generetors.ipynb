{
 "cells": [
  {
   "cell_type": "markdown",
   "metadata": {},
   "source": [
    "# Curso de Python Básico\n",
    "\n",
    "Este é um curso básico de python que tem o objetivo de apresentar a linguagem python de uma **maneira rápida e objetiva**. Vamos direto ao ponto nos conceitos básicos da programação e python com muita mão na massa! \n",
    "\n",
    "Neste curso, vamos trabalhar no **modo iterativo** do python. Porém, entenda que você pode trabalhar no modo script com várias linhas de código usando um arquivo no formato .py.\n",
    "\n",
    "Ao final desse Curso, espero que você se aprenda python e se motive cada vez mais em utilizar a linguagem para diversas tarefas e problemas do mundo real.\n",
    "\n",
    "Este notebook vai apenas passar pelos tópicos básicos em ordem:\n",
    "\n",
    "* 8. Python intermediário\n",
    "    * 8.1 List Comprehension\n",
    "    * 8.2 Generators\n",
    "    * 8.3 Tratando erros em Python\n",
    "    * 8.4 Lidando com String\n",
    "    * 8.5 Lidando com datas e tempo"
   ]
  },
  {
   "cell_type": "markdown",
   "metadata": {
    "ExecuteTime": {
     "end_time": "2021-08-27T14:41:00.259327Z",
     "start_time": "2021-08-27T14:41:00.248329Z"
    }
   },
   "source": [
    "##### 8.2 Generators \n",
    "\n",
    "- Um recurso para criar iterators em python. Um generator é uma função que retorna um objeto que podemos interar sobre ele (iterator). \n",
    "- Um generator não armazena todos os valores em memória, eles geram os valores interando sobre os dados. \n",
    "- A maioria dos generators são implementados como função.\n",
    "- O conceito de Generator em Python, criado pela PEP 255, é uma forma mais simples e rápida de se implementar o protocolo Iterator, pois não necessita a criação de uma classe para tal."
   ]
  },
  {
   "cell_type": "code",
   "execution_count": null,
   "metadata": {
    "ExecuteTime": {
     "end_time": "2022-06-20T13:27:35.311503Z",
     "start_time": "2022-06-20T13:27:35.299503Z"
    }
   },
   "outputs": [],
   "source": [
    "def count():\n",
    "    for i in range(10):\n",
    "        yield i"
   ]
  },
  {
   "cell_type": "code",
   "execution_count": null,
   "metadata": {
    "ExecuteTime": {
     "end_time": "2022-06-20T13:27:36.489966Z",
     "start_time": "2022-06-20T13:27:36.481968Z"
    }
   },
   "outputs": [],
   "source": [
    "count()"
   ]
  },
  {
   "cell_type": "code",
   "execution_count": null,
   "metadata": {
    "ExecuteTime": {
     "end_time": "2022-06-20T13:27:44.218333Z",
     "start_time": "2022-06-20T13:27:44.210331Z"
    }
   },
   "outputs": [],
   "source": [
    "for item in count():\n",
    "    print(item)"
   ]
  },
  {
   "cell_type": "markdown",
   "metadata": {},
   "source": [
    "- A diferença é que, enquanto o método ``return`` finaliza completamente uma função, a declaração de ``yield`` faz uma pausa na função salvando todos os seus estado e, mais tarde, continuando a partir daí em chamadas sucessivas."
   ]
  },
  {
   "cell_type": "markdown",
   "metadata": {
    "ExecuteTime": {
     "end_time": "2022-06-20T13:33:56.234764Z",
     "start_time": "2022-06-20T13:33:56.230804Z"
    }
   },
   "source": [
    "**Python generator com loop for**"
   ]
  },
  {
   "cell_type": "code",
   "execution_count": null,
   "metadata": {
    "ExecuteTime": {
     "end_time": "2022-06-20T13:34:01.156155Z",
     "start_time": "2022-06-20T13:34:01.152003Z"
    }
   },
   "outputs": [],
   "source": [
    "# generator version\n",
    "def fibonacci(n):\n",
    "    a = b = 1\n",
    "    for i in range(n):\n",
    "        yield a\n",
    "        a, b = b, a + b"
   ]
  },
  {
   "cell_type": "code",
   "execution_count": null,
   "metadata": {
    "ExecuteTime": {
     "end_time": "2022-06-20T13:34:01.440988Z",
     "start_time": "2022-06-20T13:34:01.435976Z"
    }
   },
   "outputs": [],
   "source": [
    "for x in fibonacci(10):\n",
    "    print(x)"
   ]
  },
  {
   "cell_type": "code",
   "execution_count": null,
   "metadata": {
    "ExecuteTime": {
     "end_time": "2022-06-20T13:34:03.158998Z",
     "start_time": "2022-06-20T13:34:03.155994Z"
    }
   },
   "outputs": [],
   "source": [
    "sequencia = fibonacci(10)"
   ]
  },
  {
   "cell_type": "code",
   "execution_count": null,
   "metadata": {
    "ExecuteTime": {
     "end_time": "2022-06-20T13:34:03.362004Z",
     "start_time": "2022-06-20T13:34:03.358033Z"
    }
   },
   "outputs": [],
   "source": [
    "sequencia"
   ]
  },
  {
   "cell_type": "code",
   "execution_count": null,
   "metadata": {
    "ExecuteTime": {
     "end_time": "2022-06-20T13:34:03.513005Z",
     "start_time": "2022-06-20T13:34:03.508005Z"
    }
   },
   "outputs": [],
   "source": [
    "next(sequencia)"
   ]
  },
  {
   "cell_type": "code",
   "execution_count": null,
   "metadata": {
    "ExecuteTime": {
     "end_time": "2022-06-20T13:34:03.907052Z",
     "start_time": "2022-06-20T13:34:03.901055Z"
    }
   },
   "outputs": [],
   "source": [
    "next(sequencia)"
   ]
  },
  {
   "cell_type": "markdown",
   "metadata": {
    "ExecuteTime": {
     "end_time": "2022-06-20T13:41:03.727992Z",
     "start_time": "2022-06-20T13:41:03.723008Z"
    }
   },
   "source": [
    "**Python generator com loop While**"
   ]
  },
  {
   "cell_type": "code",
   "execution_count": 1,
   "metadata": {},
   "outputs": [
    {
     "data": {
      "text/plain": [
       "[1, 2, 4, 8, 16, 32, 64, 128, 256, 512]"
      ]
     },
     "execution_count": 1,
     "metadata": {},
     "output_type": "execute_result"
    }
   ],
   "source": [
    "def PotenciaGenerator(max=0):\n",
    "    n = 0\n",
    "    while n < max:\n",
    "        yield 2 ** n\n",
    "        n += 1\n",
    "        \n",
    "objeto = PotenciaGenerator(10)\n",
    "\n",
    "list(objeto)"
   ]
  },
  {
   "cell_type": "code",
   "execution_count": null,
   "metadata": {},
   "outputs": [],
   "source": []
  },
  {
   "cell_type": "markdown",
   "metadata": {},
   "source": [
    "**Como criar um objeto String iterável?**"
   ]
  },
  {
   "cell_type": "code",
   "execution_count": null,
   "metadata": {
    "ExecuteTime": {
     "end_time": "2022-06-20T13:34:25.111755Z",
     "start_time": "2022-06-20T13:34:25.108717Z"
    }
   },
   "outputs": [],
   "source": [
    "# criando objeto iterável\n",
    "String = 'Meu Nome é Nicksson'\n",
    "it_String = iter(String)"
   ]
  },
  {
   "cell_type": "code",
   "execution_count": null,
   "metadata": {
    "ExecuteTime": {
     "end_time": "2022-06-20T13:34:29.776010Z",
     "start_time": "2022-06-20T13:34:29.772010Z"
    }
   },
   "outputs": [],
   "source": [
    "it_String"
   ]
  },
  {
   "cell_type": "code",
   "execution_count": null,
   "metadata": {
    "ExecuteTime": {
     "end_time": "2022-06-20T13:34:30.233659Z",
     "start_time": "2022-06-20T13:34:30.227654Z"
    }
   },
   "outputs": [],
   "source": [
    "next(it_String)"
   ]
  },
  {
   "cell_type": "code",
   "execution_count": null,
   "metadata": {
    "ExecuteTime": {
     "end_time": "2022-06-20T13:34:34.337967Z",
     "start_time": "2022-06-20T13:34:34.331969Z"
    }
   },
   "outputs": [],
   "source": [
    "next(it_String)"
   ]
  },
  {
   "cell_type": "code",
   "execution_count": null,
   "metadata": {
    "ExecuteTime": {
     "end_time": "2022-06-20T13:35:58.355392Z",
     "start_time": "2022-06-20T13:35:58.350391Z"
    }
   },
   "outputs": [],
   "source": [
    "type(it_String)"
   ]
  },
  {
   "cell_type": "markdown",
   "metadata": {
    "ExecuteTime": {
     "end_time": "2022-06-20T13:34:51.391824Z",
     "start_time": "2022-06-20T13:34:51.386824Z"
    }
   },
   "source": [
    "**Como criar uma lista iterável?**"
   ]
  },
  {
   "cell_type": "code",
   "execution_count": null,
   "metadata": {
    "ExecuteTime": {
     "end_time": "2022-06-20T13:34:26.400572Z",
     "start_time": "2022-06-20T13:34:26.396577Z"
    }
   },
   "outputs": [],
   "source": [
    "# criando objeto iterável\n",
    "my_list = iter([1,2,3,4,5,6,7,8,9,10])"
   ]
  },
  {
   "cell_type": "code",
   "execution_count": null,
   "metadata": {
    "ExecuteTime": {
     "end_time": "2022-06-20T13:28:03.448074Z",
     "start_time": "2022-06-20T13:28:03.443041Z"
    }
   },
   "outputs": [],
   "source": [
    "next(my_list)"
   ]
  },
  {
   "cell_type": "code",
   "execution_count": null,
   "metadata": {
    "ExecuteTime": {
     "end_time": "2022-06-20T13:28:07.196064Z",
     "start_time": "2022-06-20T13:28:07.190061Z"
    }
   },
   "outputs": [],
   "source": [
    "next(my_list)"
   ]
  },
  {
   "cell_type": "code",
   "execution_count": null,
   "metadata": {
    "ExecuteTime": {
     "end_time": "2022-06-20T13:35:45.819742Z",
     "start_time": "2022-06-20T13:35:45.814740Z"
    }
   },
   "outputs": [],
   "source": [
    "type(my_list)"
   ]
  },
  {
   "cell_type": "markdown",
   "metadata": {},
   "source": [
    "**Como criar um objeto iterator?**"
   ]
  },
  {
   "cell_type": "code",
   "execution_count": null,
   "metadata": {
    "ExecuteTime": {
     "end_time": "2022-06-20T13:37:59.594006Z",
     "start_time": "2022-06-20T13:37:59.591013Z"
    }
   },
   "outputs": [],
   "source": [
    "class Potencia:\n",
    "    def __init__(self, max=0):\n",
    "        self.n = 0\n",
    "        self.max = max\n",
    "\n",
    "    def __iter__(self):\n",
    "        return self\n",
    "\n",
    "    def __next__(self):\n",
    "        if self.n > self.max:\n",
    "            raise StopIteration\n",
    "\n",
    "        result = 2 ** self.n\n",
    "        self.n += 1\n",
    "        return result"
   ]
  },
  {
   "cell_type": "markdown",
   "metadata": {},
   "source": [
    "**Representar um streaming infinito**"
   ]
  },
  {
   "cell_type": "code",
   "execution_count": null,
   "metadata": {
    "ExecuteTime": {
     "end_time": "2022-06-20T13:39:52.092781Z",
     "start_time": "2022-06-20T13:39:52.089765Z"
    }
   },
   "outputs": [],
   "source": [
    "def all_even():\n",
    "    n = 0\n",
    "    while True:\n",
    "        print(n)\n",
    "        yield n\n",
    "        n += 2"
   ]
  },
  {
   "cell_type": "code",
   "execution_count": null,
   "metadata": {
    "ExecuteTime": {
     "end_time": "2022-06-20T13:39:57.082162Z",
     "start_time": "2022-06-20T13:39:54.808077Z"
    }
   },
   "outputs": [],
   "source": [
    "#list(all_even())"
   ]
  },
  {
   "cell_type": "markdown",
   "metadata": {},
   "source": [
    "# Agora é sua vez"
   ]
  },
  {
   "cell_type": "markdown",
   "metadata": {
    "ExecuteTime": {
     "end_time": "2022-06-20T13:42:14.146459Z",
     "start_time": "2022-06-20T13:42:14.140468Z"
    }
   },
   "source": [
    "**1) Crie uma função que recebe uma lista e retorna um objeto generator que cálcula a potencia dos elementos dessa lista**\n",
    "\n",
    "- Exemplo:\n",
    "    - input: [5, 10]\n",
    "    - output: [25, 100]"
   ]
  },
  {
   "cell_type": "code",
   "execution_count": 92,
   "metadata": {
    "ExecuteTime": {
     "end_time": "2022-06-20T13:47:15.809816Z",
     "start_time": "2022-06-20T13:47:15.806773Z"
    }
   },
   "outputs": [
    {
     "data": {
      "text/plain": [
       "[25, 100]"
      ]
     },
     "execution_count": 92,
     "metadata": {},
     "output_type": "execute_result"
    }
   ],
   "source": [
    "lista = [5,10]\n",
    "\n",
    "def Potencia(lista):\n",
    "    n = 0\n",
    "    while n < len(lista):\n",
    "        yield lista[0]**2 \n",
    "        yield lista[1]**2\n",
    "        n += 2\n",
    "        \n",
    "objeto = Potencia(lista)\n",
    "\n",
    "list(objeto)"
   ]
  },
  {
   "cell_type": "markdown",
   "metadata": {
    "ExecuteTime": {
     "end_time": "2022-06-20T13:42:43.497423Z",
     "start_time": "2022-06-20T13:42:43.490394Z"
    }
   },
   "source": [
    "**2) Crie uma função que retorna um objeto generator para sequencia de fibonnaci até n**\n",
    "\n",
    "- Exemplo:\n",
    "    - Input: n=10\n",
    "    - Ouput: [1, 1, 2, 3, 5, 8, 13, 21, 34, 55]\n"
   ]
  },
  {
   "cell_type": "code",
   "execution_count": 13,
   "metadata": {
    "ExecuteTime": {
     "end_time": "2022-06-20T13:43:02.893724Z",
     "start_time": "2022-06-20T13:43:02.888723Z"
    }
   },
   "outputs": [
    {
     "data": {
      "text/plain": [
       "[2, 3, 5, 8, 13, 21, 34, 55]"
      ]
     },
     "execution_count": 13,
     "metadata": {},
     "output_type": "execute_result"
    }
   ],
   "source": [
    "def fibo(n):\n",
    "    penultimo=1\n",
    "    ultimo=1\n",
    "    \n",
    "    if (n==1) or (n==2):\n",
    "        print(\"1\")\n",
    "    else:\n",
    "        count=3\n",
    "        while count <= n:\n",
    "            # olhando para a estrutura de cima voce percebe como os valores devem se comportar...\n",
    "            # se o proximo se tornou o último, então o penultimo tem que ser o novo ultimo \n",
    "            proximo = ultimo + penultimo #2\n",
    "            penultimo = ultimo #1\n",
    "            ultimo = proximo #2\n",
    "            \n",
    "            count += 1\n",
    "            yield (proximo)\n",
    "\n",
    "n = 10\n",
    "interavel = fibo(n)\n",
    "lista = []\n",
    "\n",
    "for i in interavel:\n",
    "    lista.append(i)\n",
    "lista"
   ]
  },
  {
   "cell_type": "markdown",
   "metadata": {
    "ExecuteTime": {
     "end_time": "2022-06-20T13:45:30.721006Z",
     "start_time": "2022-06-20T13:45:30.714020Z"
    }
   },
   "source": [
    "**3) Some os valores da sequência de fibonnaci ao quadrado para um dado número n**\n",
    "\n",
    "- Exemplo\n",
    "    - Input: n=10\n",
    "    - Output: 4895\n",
    "- Exemplo:\n",
    "    - Input: n=9\n",
    "    - Output: 1870"
   ]
  },
  {
   "cell_type": "code",
   "execution_count": 19,
   "metadata": {},
   "outputs": [
    {
     "data": {
      "text/plain": [
       "1870"
      ]
     },
     "execution_count": 19,
     "metadata": {},
     "output_type": "execute_result"
    }
   ],
   "source": [
    "def fibo(n):\n",
    "    penultimo=1\n",
    "    ultimo=1\n",
    "    \n",
    "    if (n==1) or (n==2):\n",
    "        print(\"1\")\n",
    "    else:\n",
    "        count=3\n",
    "        while count <= n:\n",
    "            # olhando para a estrutura de cima voce percebe como os valores devem se comportar...\n",
    "            # se o proximo se tornou o último, então o penultimo tem que ser o novo ultimo \n",
    "            proximo = ultimo + penultimo #2\n",
    "            penultimo = ultimo #1\n",
    "            ultimo = proximo #2\n",
    "            \n",
    "            count += 1\n",
    "            yield (proximo)\n",
    "\n",
    "n = 9\n",
    "interavel = fibo(n)\n",
    "lista = [1, 1]\n",
    "\n",
    "for i in interavel:\n",
    "    lista.append(i**2)\n",
    "lista_somada = sum(lista)\n",
    "lista_somada"
   ]
  },
  {
   "cell_type": "code",
   "execution_count": null,
   "metadata": {},
   "outputs": [],
   "source": []
  }
 ],
 "metadata": {
  "kernelspec": {
   "display_name": "Python 3 (ipykernel)",
   "language": "python",
   "name": "python3"
  },
  "language_info": {
   "codemirror_mode": {
    "name": "ipython",
    "version": 3
   },
   "file_extension": ".py",
   "mimetype": "text/x-python",
   "name": "python",
   "nbconvert_exporter": "python",
   "pygments_lexer": "ipython3",
   "version": "3.9.12"
  }
 },
 "nbformat": 4,
 "nbformat_minor": 4
}
