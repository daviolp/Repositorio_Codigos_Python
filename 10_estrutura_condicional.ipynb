{
 "cells": [
  {
   "cell_type": "markdown",
   "metadata": {},
   "source": [
    "# Curso de Python Básico\n",
    "\n",
    "Este é um curso básico de python que tem o objetivo de apresentar a linguagem python de uma **maneira rápida e objetiva**. Vamos direto ao ponto nos conceitos básicos da programação e python com muita mão na massa! \n",
    "\n",
    "Neste curso, vamos trabalhar no **modo iterativo** do python. Porém, entenda que você pode trabalhar no modo script com várias linhas de código usando um arquivo no formato .py.\n",
    "\n",
    "Ao final desse Curso, espero que você se aprenda python e se motive cada vez mais em utilizar a linguagem para diversas tarefas e problemas do mundo real.\n",
    "\n",
    "Este notebook vai apenas passar pelos tópicos básicos em ordem:\n",
    "\n",
    "* 5. Estrutura condicionais\n",
    "    * 5.1 if\n",
    "    * 5.2 else\n",
    "    * 5.3 elif"
   ]
  },
  {
   "cell_type": "markdown",
   "metadata": {},
   "source": [
    "## 5. Estrutura Condicional\n",
    "- if\n",
    "- else\n",
    "- elif\n",
    "\n",
    "**Indentação**: são espaços que deixamos no inicio da linha de código"
   ]
  },
  {
   "cell_type": "markdown",
   "metadata": {
    "ExecuteTime": {
     "end_time": "2021-08-27T14:12:37.003786Z",
     "start_time": "2021-08-27T14:12:36.997786Z"
    }
   },
   "source": [
    "##### 5.1 Condicional Alternativa"
   ]
  },
  {
   "cell_type": "code",
   "execution_count": null,
   "metadata": {
    "ExecuteTime": {
     "end_time": "2021-09-28T16:39:17.215645Z",
     "start_time": "2021-09-28T16:39:17.212646Z"
    }
   },
   "outputs": [],
   "source": [
    "if 1 < 2:\n",
    "    print('É maior')"
   ]
  },
  {
   "cell_type": "markdown",
   "metadata": {},
   "source": [
    "##### 5.2 Condicional Endadeada"
   ]
  },
  {
   "cell_type": "code",
   "execution_count": null,
   "metadata": {
    "ExecuteTime": {
     "end_time": "2021-09-28T16:39:51.002550Z",
     "start_time": "2021-09-28T16:39:50.990550Z"
    }
   },
   "outputs": [],
   "source": [
    "if 1 > 2:\n",
    "    print('Primeiro')\n",
    "elif:\n",
    "    print('Último')\n",
    "ese if:\n",
    "\n",
    "else:"
   ]
  },
  {
   "cell_type": "code",
   "execution_count": null,
   "metadata": {
    "ExecuteTime": {
     "end_time": "2021-09-28T16:40:21.391517Z",
     "start_time": "2021-09-28T16:40:21.380519Z"
    }
   },
   "outputs": [],
   "source": [
    "if 1 == 2:\n",
    "    print('Primeiro')\n",
    "elif 3 == 3:\n",
    "    print('Meio')\n",
    "else:\n",
    "    print('Último')"
   ]
  },
  {
   "cell_type": "markdown",
   "metadata": {},
   "source": [
    "##### 5.3 Condicional Aninhadas"
   ]
  },
  {
   "cell_type": "code",
   "execution_count": null,
   "metadata": {
    "ExecuteTime": {
     "end_time": "2021-09-28T16:41:29.866995Z",
     "start_time": "2021-09-28T16:41:29.850357Z"
    }
   },
   "outputs": [],
   "source": [
    "if 1 < 0:\n",
    "    print(\"é menor\")\n",
    "elif 0 > 0:\n",
    "    print(\"é maior\")\n",
    "else:\n",
    "    if 1 < 0:\n",
    "        print(\"é menor\")\n",
    "    elif 1 > 0:\n",
    "        print(\"é maior\") "
   ]
  },
  {
   "cell_type": "code",
   "execution_count": null,
   "metadata": {},
   "outputs": [],
   "source": []
  },
  {
   "cell_type": "markdown",
   "metadata": {},
   "source": [
    "## Agora é sua vez"
   ]
  },
  {
   "cell_type": "markdown",
   "metadata": {
    "ExecuteTime": {
     "end_time": "2021-09-27T19:00:37.575517Z",
     "start_time": "2021-09-27T19:00:37.555517Z"
    }
   },
   "source": [
    "**1) Crie um programa que irá receber uma variável e irá fornecer uma saída. Imprima impar se a variável for impar e par se a variável for par.**"
   ]
  },
  {
   "cell_type": "code",
   "execution_count": 1,
   "metadata": {},
   "outputs": [
    {
     "name": "stdin",
     "output_type": "stream",
     "text": [
      "Digite um número:  2\n"
     ]
    },
    {
     "name": "stdout",
     "output_type": "stream",
     "text": [
      "2 é um número PAR\n"
     ]
    }
   ],
   "source": [
    "num = int(input('Digite um número: '))\n",
    "\n",
    "if num % 2 == 0:\n",
    "    print(f'{num} é um número PAR')\n",
    "elif num % 2 != 0:\n",
    "    print(f'{num} é um número IMPAR')"
   ]
  },
  {
   "cell_type": "markdown",
   "metadata": {},
   "source": [
    "**2) Crie um programa que irá receber uma idade e irá fornecer uma saída. Se a idade for menor do que 12, imprima \"criança\", se a idade for menor do que 18 e maior do que 12, imprima \"adolescente\", se a idade for maior do que 18 e menor do que 60, imprima \"adulto\", senão imprima \"idoso\"**"
   ]
  },
  {
   "cell_type": "code",
   "execution_count": 10,
   "metadata": {},
   "outputs": [
    {
     "name": "stdin",
     "output_type": "stream",
     "text": [
      "Digite sua idade amigo(a): 59\n"
     ]
    },
    {
     "name": "stdout",
     "output_type": "stream",
     "text": [
      "Adulto\n"
     ]
    }
   ],
   "source": [
    "num = int(input('Digite sua idade amigo(a):'))\n",
    "\n",
    "if num <= 12:\n",
    "    print('Criança')\n",
    "elif num < 18 and num > 12:\n",
    "    print('Adolescente')\n",
    "elif num > 18 and num < 60:\n",
    "    print('Adulto')\n",
    "else:\n",
    "    print('Idoso')"
   ]
  }
 ],
 "metadata": {
  "kernelspec": {
   "display_name": "Python 3 (ipykernel)",
   "language": "python",
   "name": "python3"
  },
  "language_info": {
   "codemirror_mode": {
    "name": "ipython",
    "version": 3
   },
   "file_extension": ".py",
   "mimetype": "text/x-python",
   "name": "python",
   "nbconvert_exporter": "python",
   "pygments_lexer": "ipython3",
   "version": "3.9.12"
  }
 },
 "nbformat": 4,
 "nbformat_minor": 4
}
