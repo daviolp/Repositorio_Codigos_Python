{
 "cells": [
  {
   "cell_type": "markdown",
   "metadata": {},
   "source": [
    "# Curso de Python Básico\n",
    "\n",
    "Este é um curso básico de python que tem o objetivo de apresentar a linguagem python de uma **maneira rápida e objetiva**. Vamos direto ao ponto nos conceitos básicos da programação e python com muita mão na massa! \n",
    "\n",
    "Neste curso, vamos trabalhar no **modo iterativo** do python. Porém, entenda que você pode trabalhar no modo script com várias linhas de código usando um arquivo no formato .py.\n",
    "\n",
    "Ao final desse Curso, espero que você se aprenda python e se motive cada vez mais em utilizar a linguagem para diversas tarefas e problemas do mundo real.\n",
    "\n",
    "Este notebook vai apenas passar pelos tópicos básicos em ordem:\n",
    "\n",
    "* 6. Estrutura de Repetição\n",
    "    * 6.1 for \n",
    "    * 6.2 range\n",
    "    * 6.3 while \n",
    "    * 6.4 while-else\n",
    "    * 6.5 break"
   ]
  },
  {
   "cell_type": "markdown",
   "metadata": {},
   "source": [
    "## 6. Estrutura de Repetição\n",
    "- for\n",
    "- range\n",
    "- while\n",
    "- while-else"
   ]
  },
  {
   "cell_type": "code",
   "execution_count": 1,
   "metadata": {
    "ExecuteTime": {
     "end_time": "2021-09-28T16:43:05.518688Z",
     "start_time": "2021-09-28T16:43:05.507689Z"
    }
   },
   "outputs": [],
   "source": [
    "minha_lista = [0,1,2,3,4,5]"
   ]
  },
  {
   "cell_type": "markdown",
   "metadata": {},
   "source": [
    "##### 6.1 for"
   ]
  },
  {
   "cell_type": "code",
   "execution_count": 2,
   "metadata": {
    "ExecuteTime": {
     "end_time": "2021-09-28T16:44:56.600231Z",
     "start_time": "2021-09-28T16:44:56.586230Z"
    }
   },
   "outputs": [
    {
     "name": "stdout",
     "output_type": "stream",
     "text": [
      "0\n",
      "1\n",
      "2\n",
      "3\n",
      "4\n",
      "5\n"
     ]
    }
   ],
   "source": [
    "for i in [0,1,2,3,4,5]:\n",
    "    print(i)"
   ]
  },
  {
   "cell_type": "code",
   "execution_count": 3,
   "metadata": {
    "ExecuteTime": {
     "end_time": "2021-09-28T16:45:30.874235Z",
     "start_time": "2021-09-28T16:45:30.867235Z"
    }
   },
   "outputs": [],
   "source": [
    "nomes = ['Nicksson','Paulo','Joao']"
   ]
  },
  {
   "cell_type": "code",
   "execution_count": 4,
   "metadata": {
    "ExecuteTime": {
     "end_time": "2021-09-28T16:45:31.059344Z",
     "start_time": "2021-09-28T16:45:31.050343Z"
    }
   },
   "outputs": [
    {
     "name": "stdout",
     "output_type": "stream",
     "text": [
      "Nicksson\n",
      "Paulo\n",
      "Joao\n"
     ]
    }
   ],
   "source": [
    "for n in nomes:\n",
    "    print(n)"
   ]
  },
  {
   "cell_type": "code",
   "execution_count": 5,
   "metadata": {
    "ExecuteTime": {
     "end_time": "2021-09-28T16:45:38.641838Z",
     "start_time": "2021-09-28T16:45:38.633838Z"
    }
   },
   "outputs": [
    {
     "name": "stdout",
     "output_type": "stream",
     "text": [
      "!\n",
      "!\n",
      "!\n"
     ]
    }
   ],
   "source": [
    "for n in nomes:\n",
    "    print('!')"
   ]
  },
  {
   "cell_type": "code",
   "execution_count": 6,
   "metadata": {
    "ExecuteTime": {
     "end_time": "2021-09-28T16:45:44.749453Z",
     "start_time": "2021-09-28T16:45:44.738453Z"
    }
   },
   "outputs": [
    {
     "name": "stdout",
     "output_type": "stream",
     "text": [
      "NickssonNicksson\n",
      "PauloPaulo\n",
      "JoaoJoao\n"
     ]
    }
   ],
   "source": [
    "for n in nomes:\n",
    "    print(n+n)"
   ]
  },
  {
   "cell_type": "markdown",
   "metadata": {},
   "source": [
    "##### 6.2 range()\n",
    "A função **range()** retorna uma série numérica no intervalo enviado como argumento. A série retornada é um **objeto iterável** tipo range e os elementos contidos serão gerados sob demanda."
   ]
  },
  {
   "cell_type": "code",
   "execution_count": 7,
   "metadata": {
    "ExecuteTime": {
     "end_time": "2021-09-28T16:46:50.994629Z",
     "start_time": "2021-09-28T16:46:50.978629Z"
    }
   },
   "outputs": [
    {
     "data": {
      "text/plain": [
       "range(0, 5)"
      ]
     },
     "execution_count": 7,
     "metadata": {},
     "output_type": "execute_result"
    }
   ],
   "source": [
    "range(5)"
   ]
  },
  {
   "cell_type": "code",
   "execution_count": 8,
   "metadata": {
    "ExecuteTime": {
     "end_time": "2021-09-28T16:47:01.114866Z",
     "start_time": "2021-09-28T16:47:01.105866Z"
    }
   },
   "outputs": [
    {
     "data": {
      "text/plain": [
       "[0, 1, 2, 3, 4]"
      ]
     },
     "execution_count": 8,
     "metadata": {},
     "output_type": "execute_result"
    }
   ],
   "source": [
    "list(range(5))"
   ]
  },
  {
   "cell_type": "code",
   "execution_count": 9,
   "metadata": {
    "ExecuteTime": {
     "end_time": "2021-09-28T16:47:25.003156Z",
     "start_time": "2021-09-28T16:47:24.986158Z"
    }
   },
   "outputs": [
    {
     "data": {
      "text/plain": [
       "[0, 10, 20, 30, 40, 50, 60, 70, 80, 90, 100]"
      ]
     },
     "execution_count": 9,
     "metadata": {},
     "output_type": "execute_result"
    }
   ],
   "source": [
    "list(range(0, 101, 10))"
   ]
  },
  {
   "cell_type": "code",
   "execution_count": 10,
   "metadata": {
    "ExecuteTime": {
     "end_time": "2021-09-28T16:48:06.389807Z",
     "start_time": "2021-09-28T16:48:06.385806Z"
    }
   },
   "outputs": [
    {
     "name": "stdout",
     "output_type": "stream",
     "text": [
      "0\n",
      "2\n",
      "4\n",
      "6\n",
      "8\n",
      "10\n",
      "12\n",
      "14\n",
      "16\n",
      "18\n",
      "20\n",
      "22\n",
      "24\n",
      "26\n",
      "28\n",
      "30\n",
      "32\n",
      "34\n",
      "36\n",
      "38\n",
      "40\n",
      "42\n",
      "44\n",
      "46\n",
      "48\n",
      "50\n",
      "52\n",
      "54\n",
      "56\n",
      "58\n",
      "60\n",
      "62\n",
      "64\n",
      "66\n",
      "68\n",
      "70\n",
      "72\n",
      "74\n",
      "76\n",
      "78\n",
      "80\n",
      "82\n",
      "84\n",
      "86\n",
      "88\n",
      "90\n",
      "92\n",
      "94\n",
      "96\n",
      "98\n",
      "100\n"
     ]
    }
   ],
   "source": [
    "for i in range(0, 101, 2):\n",
    "    print(i)"
   ]
  },
  {
   "cell_type": "markdown",
   "metadata": {},
   "source": [
    "##### 6.3 while"
   ]
  },
  {
   "cell_type": "code",
   "execution_count": 11,
   "metadata": {
    "ExecuteTime": {
     "end_time": "2021-09-28T16:53:04.859203Z",
     "start_time": "2021-09-28T16:53:04.847200Z"
    }
   },
   "outputs": [
    {
     "name": "stdout",
     "output_type": "stream",
     "text": [
      "i is: 1\n",
      "i is: 2\n",
      "i is: 3\n",
      "i is: 4\n",
      "i is: 5\n"
     ]
    }
   ],
   "source": [
    "i = 1\n",
    "while i <= 5:\n",
    "    print('i is: {}'.format(i))\n",
    "    i = i+1"
   ]
  },
  {
   "cell_type": "markdown",
   "metadata": {},
   "source": [
    "##### 6.4 while-else"
   ]
  },
  {
   "cell_type": "code",
   "execution_count": 12,
   "metadata": {
    "ExecuteTime": {
     "end_time": "2021-09-28T16:56:26.257844Z",
     "start_time": "2021-09-28T16:56:26.247842Z"
    }
   },
   "outputs": [
    {
     "name": "stdout",
     "output_type": "stream",
     "text": [
      "i is: 1\n",
      "i is: 2\n",
      "i is: 3\n",
      "i is: 4\n",
      "i is: 5\n",
      "Loop Encerrado\n"
     ]
    }
   ],
   "source": [
    "i = 1\n",
    "while i <= 5:\n",
    "    print('i is: {}'.format(i))\n",
    "    i = i+1\n",
    "else:\n",
    "    print('Loop Encerrado')"
   ]
  },
  {
   "cell_type": "markdown",
   "metadata": {
    "ExecuteTime": {
     "end_time": "2021-08-27T17:57:16.522394Z",
     "start_time": "2021-08-27T17:57:16.510394Z"
    }
   },
   "source": [
    "##### 6.5 break\n",
    "\n",
    "utilizado quando não se sabe o momento certo de parar a iteração"
   ]
  },
  {
   "cell_type": "code",
   "execution_count": 13,
   "metadata": {
    "ExecuteTime": {
     "end_time": "2021-09-28T16:58:35.487318Z",
     "start_time": "2021-09-28T16:58:35.470319Z"
    }
   },
   "outputs": [
    {
     "name": "stdout",
     "output_type": "stream",
     "text": [
      "10\n",
      "5.0\n",
      "2.5\n",
      "1.25\n",
      "0.625\n"
     ]
    }
   ],
   "source": [
    "x = 10\n",
    "while True:\n",
    "    print(x)\n",
    "    if x < 1:\n",
    "        break\n",
    "    x = x/2"
   ]
  },
  {
   "cell_type": "code",
   "execution_count": null,
   "metadata": {},
   "outputs": [],
   "source": []
  },
  {
   "cell_type": "markdown",
   "metadata": {},
   "source": [
    "## Agora é sua vez"
   ]
  },
  {
   "cell_type": "markdown",
   "metadata": {
    "ExecuteTime": {
     "end_time": "2021-09-27T19:05:53.516582Z",
     "start_time": "2021-09-27T19:05:53.499580Z"
    }
   },
   "source": [
    "**1) Faça um programa que peça uma nota, entre zero e dez. Mostre uma mensagem caso o valor seja inválido e continue pedindo até que o usuário informe um valor válido.** Use \"input\" para receber o dado no seu programa"
   ]
  },
  {
   "cell_type": "code",
   "execution_count": 10,
   "metadata": {},
   "outputs": [
    {
     "name": "stdin",
     "output_type": "stream",
     "text": [
      "Digite um número entre 0 e 10: 12\n"
     ]
    },
    {
     "name": "stdout",
     "output_type": "stream",
     "text": [
      "Digite um número entre os valores pedidos\n"
     ]
    },
    {
     "name": "stdin",
     "output_type": "stream",
     "text": [
      "Digite um número entre 0 e 10: 1\n"
     ]
    },
    {
     "name": "stdout",
     "output_type": "stream",
     "text": [
      "Agora sim, vamos prosseguir\n"
     ]
    }
   ],
   "source": [
    "while True:\n",
    "    num = int(input('Digite um número entre 0 e 10:'))\n",
    "\n",
    "    if num < 0 or num > 10:\n",
    "        print('Digite um número entre os valores pedidos')\n",
    "    if num >= 0 and num <= 10:\n",
    "        print('Agora sim, vamos prosseguir')\n",
    "        break"
   ]
  },
  {
   "cell_type": "markdown",
   "metadata": {},
   "source": [
    "**2) Faça um programa que leia 5 números e informe o maior número.** "
   ]
  },
  {
   "cell_type": "code",
   "execution_count": 19,
   "metadata": {},
   "outputs": [
    {
     "name": "stdout",
     "output_type": "stream",
     "text": [
      "Vamos precisar de 5 números amigo(a), tudo bem?\n"
     ]
    },
    {
     "name": "stdin",
     "output_type": "stream",
     "text": [
      "Digite o 1º número: 1\n",
      "Digite o 2º número: 2\n",
      "Digite o 3º número: 2\n",
      "Digite o 4º número: 3\n",
      "Digite o 5º número: 1\n"
     ]
    },
    {
     "name": "stdout",
     "output_type": "stream",
     "text": [
      "--------------------------\n",
      "O maior é: 3\n"
     ]
    }
   ],
   "source": [
    "while True:\n",
    "    vet = []\n",
    "    \n",
    "    print('Vamos precisar de 5 números amigo(a), tudo bem?')\n",
    "    \n",
    "    num = float(input('Digite o 1º número:'))\n",
    "    num2 = float(input('Digite o 2º número:'))\n",
    "    num3 = float(input('Digite o 3º número:'))\n",
    "    num4 = float(input('Digite o 4º número:'))\n",
    "    num5 = float(input('Digite o 5º número:'))\n",
    "    \n",
    "    for i in range(0,4):\n",
    "        vet.append(num)\n",
    "        vet.append(num2)\n",
    "        vet.append(num3)\n",
    "        vet.append(num4)\n",
    "        vet.append(num5)\n",
    "        \n",
    "    print('--------------------------')\n",
    "    print('O maior é:', int(max(vet)))\n",
    "    break\n"
   ]
  },
  {
   "cell_type": "markdown",
   "metadata": {
    "ExecuteTime": {
     "end_time": "2021-09-27T19:07:20.231651Z",
     "start_time": "2021-09-27T19:07:20.226649Z"
    }
   },
   "source": [
    "**3) Faça um programa que imprima na tela apenas os números ímpares entre 1 e 50**"
   ]
  },
  {
   "cell_type": "code",
   "execution_count": 27,
   "metadata": {},
   "outputs": [
    {
     "name": "stdout",
     "output_type": "stream",
     "text": [
      "1\n",
      "3\n",
      "5\n",
      "7\n",
      "9\n",
      "11\n",
      "13\n",
      "15\n",
      "17\n",
      "19\n",
      "21\n",
      "23\n",
      "25\n",
      "27\n",
      "29\n",
      "31\n",
      "33\n",
      "35\n",
      "37\n",
      "39\n",
      "41\n",
      "43\n",
      "45\n",
      "47\n",
      "49\n"
     ]
    }
   ],
   "source": [
    "for i in range(1,51):\n",
    "    if i % 2 != 0:\n",
    "        print(i)"
   ]
  },
  {
   "cell_type": "markdown",
   "metadata": {
    "ExecuteTime": {
     "end_time": "2021-09-27T19:07:51.148158Z",
     "start_time": "2021-09-27T19:07:51.140159Z"
    }
   },
   "source": [
    "**4) Faça um programa que imprima a sequência de fibonacci a partir do  n−ésimo termo da sequência**"
   ]
  },
  {
   "cell_type": "code",
   "execution_count": 32,
   "metadata": {},
   "outputs": [
    {
     "name": "stdout",
     "output_type": "stream",
     "text": [
      "1.0\n",
      "1.0\n",
      "2.0\n",
      "3.0000000000000004\n",
      "5.000000000000001\n",
      "8.000000000000002\n",
      "13.000000000000002\n",
      "21.000000000000004\n",
      "34.00000000000001\n",
      "55.000000000000014\n",
      "89.00000000000003\n"
     ]
    }
   ],
   "source": [
    "from math import sqrt\n",
    "def Fib(n):\n",
    "    return ((1+sqrt(5))**n-(1-sqrt(5))**n)/(2**n*sqrt(5))\n",
    "\n",
    "def Fibonacci(pri_num, ult_num):\n",
    "    n = 0\n",
    "    cur = Fib(n)\n",
    "    while cur <= ult_num:\n",
    "        if pri_num <= cur:\n",
    "            print(cur)\n",
    "        n += 1\n",
    "        cur = Fib(n)\n",
    "Fibonacci(1,100)"
   ]
  },
  {
   "cell_type": "markdown",
   "metadata": {
    "ExecuteTime": {
     "end_time": "2021-09-27T19:10:05.894744Z",
     "start_time": "2021-09-27T19:10:05.889743Z"
    }
   },
   "source": [
    "**5) Faça um programa que peça para n pessoas a sua idade, ao final o programa devera verificar se a média de idade da turma varia entre 0 e 25,26 e 60 e maior que 60; e então, dizer se a turma é jovem, adulta ou idosa, conforme a média calculada**"
   ]
  },
  {
   "cell_type": "code",
   "execution_count": 42,
   "metadata": {},
   "outputs": [
    {
     "name": "stdin",
     "output_type": "stream",
     "text": [
      "Digite sua idade:  33\n",
      "Digite sua idade:  23\n",
      "Digite sua idade:  25\n",
      "Digite sua idade:  26\n",
      "Digite sua idade:  27\n",
      "Digite sua idade:  28\n",
      "Digite sua idade:  36\n",
      "Digite sua idade:  35\n",
      "Digite sua idade:  28\n",
      "Digite sua idade:  29\n"
     ]
    },
    {
     "name": "stdout",
     "output_type": "stream",
     "text": [
      "---------------------------------\n",
      "A media é 29.0, e a turma é Adulta\n"
     ]
    }
   ],
   "source": [
    "soma = 0\n",
    "n = len(range(0,10))\n",
    "\n",
    "for i in range(n):\n",
    "    idade = int(input('Digite sua idade: '))\n",
    "    soma += idade\n",
    "\n",
    "media = soma/n\n",
    "\n",
    "if media >= 0 and media <= 25:\n",
    "    res = \"a turma é Jovem\"\n",
    "if media >= 26 and media <= 60:\n",
    "    res = \"a turma é Adulta\"\n",
    "if media > 60:\n",
    "    res = \"a turma é Idosa\"\n",
    "\n",
    "print('---------------------------------')\n",
    "print(f'A media é {media}, e {res}')\n",
    "\n"
   ]
  }
 ],
 "metadata": {
  "kernelspec": {
   "display_name": "Python 3 (ipykernel)",
   "language": "python",
   "name": "python3"
  },
  "language_info": {
   "codemirror_mode": {
    "name": "ipython",
    "version": 3
   },
   "file_extension": ".py",
   "mimetype": "text/x-python",
   "name": "python",
   "nbconvert_exporter": "python",
   "pygments_lexer": "ipython3",
   "version": "3.9.12"
  }
 },
 "nbformat": 4,
 "nbformat_minor": 4
}
