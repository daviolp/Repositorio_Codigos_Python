{
 "cells": [
  {
   "cell_type": "markdown",
   "metadata": {},
   "source": [
    "# Curso de Python Básico\n",
    "\n",
    "Este é um curso básico de python que tem o objetivo de apresentar a linguagem python de uma **maneira rápida e objetiva**. Vamos direto ao ponto nos conceitos básicos da programação e python com muita mão na massa! \n",
    "\n",
    "Neste curso, vamos trabalhar no **modo iterativo** do python. Porém, entenda que você pode trabalhar no modo script com várias linhas de código usando um arquivo no formato .py.\n",
    "\n",
    "Ao final desse Curso, espero que você se aprenda python e se motive cada vez mais em utilizar a linguagem para diversas tarefas e problemas do mundo real.\n",
    "\n",
    "Este notebook vai apenas passar pelos tópicos básicos em ordem"
   ]
  },
  {
   "cell_type": "markdown",
   "metadata": {},
   "source": [
    "# Arquivos do Sistema Operacional\n",
    "\n",
    "- dataset: https://dados.gov.br/dataset/ensino-pos-graduacao-fcrb"
   ]
  },
  {
   "cell_type": "markdown",
   "metadata": {},
   "source": [
    "### 01. Abrir arquivos no disco"
   ]
  },
  {
   "cell_type": "code",
   "execution_count": null,
   "metadata": {
    "ExecuteTime": {
     "end_time": "2022-06-20T14:39:18.748100Z",
     "start_time": "2022-06-20T14:39:18.745080Z"
    }
   },
   "outputs": [],
   "source": [
    "file = open('docentes20162021.csv', 'r', encoding='utf-8')"
   ]
  },
  {
   "cell_type": "code",
   "execution_count": null,
   "metadata": {
    "ExecuteTime": {
     "end_time": "2022-06-20T14:39:19.119182Z",
     "start_time": "2022-06-20T14:39:19.115081Z"
    }
   },
   "outputs": [],
   "source": [
    "print(file)"
   ]
  },
  {
   "cell_type": "markdown",
   "metadata": {},
   "source": [
    "#### Modo de leitura\n",
    "- r: permissão de leitura (read)\n",
    "- w: permissão de escrita (write)\n",
    "- a: permissão de escrita somente no final do arquivo (append)"
   ]
  },
  {
   "cell_type": "markdown",
   "metadata": {},
   "source": [
    "### 02. Leitura de arquivos no disco"
   ]
  },
  {
   "cell_type": "code",
   "execution_count": null,
   "metadata": {
    "ExecuteTime": {
     "end_time": "2022-06-20T14:39:19.962085Z",
     "start_time": "2022-06-20T14:39:19.958114Z"
    }
   },
   "outputs": [],
   "source": [
    "dados = file.readlines()"
   ]
  },
  {
   "cell_type": "code",
   "execution_count": null,
   "metadata": {
    "ExecuteTime": {
     "end_time": "2022-06-20T14:39:20.286087Z",
     "start_time": "2022-06-20T14:39:20.273081Z"
    }
   },
   "outputs": [],
   "source": [
    "for word in dados:\n",
    "    print(word)"
   ]
  },
  {
   "cell_type": "code",
   "execution_count": null,
   "metadata": {
    "ExecuteTime": {
     "end_time": "2022-06-20T14:40:10.856601Z",
     "start_time": "2022-06-20T14:40:10.850592Z"
    }
   },
   "outputs": [],
   "source": [
    "file = open('docentes20162021.csv', 'r')\n",
    "print(file.read())"
   ]
  },
  {
   "cell_type": "markdown",
   "metadata": {},
   "source": [
    "#### leitura usando with"
   ]
  },
  {
   "cell_type": "code",
   "execution_count": null,
   "metadata": {
    "ExecuteTime": {
     "end_time": "2022-06-20T14:40:16.055857Z",
     "start_time": "2022-06-20T14:40:16.048857Z"
    }
   },
   "outputs": [],
   "source": [
    "with open('docentes20162021.csv', 'r') as file:\n",
    "    print(file.read())"
   ]
  },
  {
   "cell_type": "code",
   "execution_count": null,
   "metadata": {},
   "outputs": [],
   "source": []
  },
  {
   "cell_type": "markdown",
   "metadata": {},
   "source": [
    "### 03. Escrevendo em arquivos"
   ]
  },
  {
   "cell_type": "code",
   "execution_count": null,
   "metadata": {
    "ExecuteTime": {
     "end_time": "2022-06-20T14:40:41.348601Z",
     "start_time": "2022-06-20T14:40:41.344587Z"
    }
   },
   "outputs": [],
   "source": [
    "file2 = open('novo_arquivo.txt', 'w')"
   ]
  },
  {
   "cell_type": "code",
   "execution_count": null,
   "metadata": {
    "ExecuteTime": {
     "end_time": "2022-06-20T14:40:41.773988Z",
     "start_time": "2022-06-20T14:40:41.760949Z"
    }
   },
   "outputs": [],
   "source": [
    "file2.write('Este é minha primeira linha do arquivo file2')"
   ]
  },
  {
   "cell_type": "code",
   "execution_count": null,
   "metadata": {
    "ExecuteTime": {
     "end_time": "2022-06-20T14:40:42.237528Z",
     "start_time": "2022-06-20T14:40:42.230483Z"
    }
   },
   "outputs": [],
   "source": [
    "file2.write('Esta é a segunda linha do arquivo file2')"
   ]
  },
  {
   "cell_type": "code",
   "execution_count": null,
   "metadata": {
    "ExecuteTime": {
     "end_time": "2022-06-20T14:40:42.660486Z",
     "start_time": "2022-06-20T14:40:42.654483Z"
    }
   },
   "outputs": [],
   "source": [
    "file2.close()"
   ]
  },
  {
   "cell_type": "code",
   "execution_count": null,
   "metadata": {
    "ExecuteTime": {
     "end_time": "2022-06-20T14:40:42.976488Z",
     "start_time": "2022-06-20T14:40:42.964481Z"
    }
   },
   "outputs": [],
   "source": [
    "# arquivo está fechado (error)\n",
    "file2.read()"
   ]
  },
  {
   "cell_type": "markdown",
   "metadata": {},
   "source": [
    "- O arquivo está fechado! Você não pode escrever nele!"
   ]
  },
  {
   "cell_type": "code",
   "execution_count": null,
   "metadata": {
    "ExecuteTime": {
     "end_time": "2022-06-20T14:41:09.639541Z",
     "start_time": "2022-06-20T14:41:09.634540Z"
    }
   },
   "outputs": [],
   "source": [
    "file2 = open('novo_arquivo.txt', 'r')"
   ]
  },
  {
   "cell_type": "code",
   "execution_count": null,
   "metadata": {
    "ExecuteTime": {
     "end_time": "2022-06-20T14:41:09.962542Z",
     "start_time": "2022-06-20T14:41:09.954544Z"
    }
   },
   "outputs": [],
   "source": [
    "file2.readlines()"
   ]
  },
  {
   "cell_type": "markdown",
   "metadata": {},
   "source": [
    "#### Escrevendo no final do arquivo\n",
    "- Use a tag 'a'"
   ]
  },
  {
   "cell_type": "code",
   "execution_count": null,
   "metadata": {
    "ExecuteTime": {
     "end_time": "2022-06-20T14:37:32.177860Z",
     "start_time": "2022-06-20T14:37:32.174856Z"
    }
   },
   "outputs": [],
   "source": [
    "file3 = open('novo_arquivo.txt', 'a')"
   ]
  },
  {
   "cell_type": "code",
   "execution_count": null,
   "metadata": {
    "ExecuteTime": {
     "end_time": "2022-06-20T14:37:33.510024Z",
     "start_time": "2022-06-20T14:37:33.505022Z"
    }
   },
   "outputs": [],
   "source": [
    "file3.write('Vamos escrever no final do arquivo\\n')"
   ]
  },
  {
   "cell_type": "code",
   "execution_count": null,
   "metadata": {
    "ExecuteTime": {
     "end_time": "2022-06-20T14:37:34.276548Z",
     "start_time": "2022-06-20T14:37:34.272583Z"
    }
   },
   "outputs": [],
   "source": [
    "file3.close()"
   ]
  },
  {
   "cell_type": "markdown",
   "metadata": {},
   "source": [
    "#### Escrevendo lista de dados em arquivos"
   ]
  },
  {
   "cell_type": "code",
   "execution_count": null,
   "metadata": {
    "ExecuteTime": {
     "end_time": "2022-06-20T14:41:44.055205Z",
     "start_time": "2022-06-20T14:41:44.050199Z"
    }
   },
   "outputs": [],
   "source": [
    "lista = ['primeira linha', 'segunda linha', 'terceira linha']"
   ]
  },
  {
   "cell_type": "code",
   "execution_count": null,
   "metadata": {
    "ExecuteTime": {
     "end_time": "2022-06-20T14:41:45.444237Z",
     "start_time": "2022-06-20T14:41:45.440235Z"
    }
   },
   "outputs": [],
   "source": [
    "file = open('novo_arquivo.txt', 'w')"
   ]
  },
  {
   "cell_type": "code",
   "execution_count": null,
   "metadata": {
    "ExecuteTime": {
     "end_time": "2022-06-20T14:41:47.813240Z",
     "start_time": "2022-06-20T14:41:47.808228Z"
    }
   },
   "outputs": [],
   "source": [
    "file.writelines(lista)\n",
    "#file.close()"
   ]
  },
  {
   "cell_type": "code",
   "execution_count": null,
   "metadata": {
    "ExecuteTime": {
     "end_time": "2022-06-20T14:41:48.435264Z",
     "start_time": "2022-06-20T14:41:48.432263Z"
    }
   },
   "outputs": [],
   "source": [
    "file = open('novo_arquivo.txt', 'r')"
   ]
  },
  {
   "cell_type": "code",
   "execution_count": null,
   "metadata": {
    "ExecuteTime": {
     "end_time": "2022-06-20T14:41:49.046259Z",
     "start_time": "2022-06-20T14:41:49.040259Z"
    }
   },
   "outputs": [],
   "source": [
    "file.readlines()"
   ]
  },
  {
   "cell_type": "code",
   "execution_count": null,
   "metadata": {},
   "outputs": [],
   "source": []
  },
  {
   "cell_type": "markdown",
   "metadata": {},
   "source": [
    "# Agora é sua vez"
   ]
  },
  {
   "cell_type": "markdown",
   "metadata": {
    "ExecuteTime": {
     "end_time": "2022-06-20T14:44:01.991164Z",
     "start_time": "2022-06-20T14:44:01.986195Z"
    }
   },
   "source": [
    "**1) Crie um arquivo turma.csv e escreva o nome e a idade dos alunos da turma neste arquivo.**\n",
    "- Exemplo\n",
    "    - id, nome, idade\n",
    "    - 1, joão, 10\n",
    "    - 2, pedro, 20\n",
    "    - 3, maria, 30\n"
   ]
  },
  {
   "cell_type": "code",
   "execution_count": 1,
   "metadata": {},
   "outputs": [],
   "source": [
    "import csv #importando a biblioteca para manipular arquivos csv com o python\n",
    "\n",
    "alunos = [\n",
    "         [1,'Alessandro',29],\n",
    "         [2,'Carlielson',29],\n",
    "         [3,'Davysson',27],\n",
    "         [4,'Davi',23],\n",
    "         [5,'Erik',26],\n",
    "         [6,'Hyago',25],\n",
    "         [7,'Janiel',25],\n",
    "         [8,'Johnson',23],\n",
    "         [9,'Juliana',27],\n",
    "         [10,'Kelvin',25],\n",
    "         [11,'Livia',25],\n",
    "         [12,'Lorena',26],\n",
    "         [13,'Luan',23],\n",
    "         [14,'Lucelia',36],\n",
    "         [15,'Nathalia',24],\n",
    "         [16,'Rafael',26],\n",
    "         [17,'Robesvania',23],\n",
    "         [18,'Robson',23],\n",
    "         [19,'Valbert',38],\n",
    "         [20,'Wesley',24]]\n",
    "\n",
    "#Abertura do arquivo para ser escrito\n",
    "arq = open('turma.csv', 'w', newline='', encoding='utf-8')\n",
    "\n",
    "#Carregando uma caneta para escrita\n",
    "w = csv.writer(arq)\n",
    "\n",
    "#Procurando por cada lista dentro da lista Geral de Alunos\n",
    "for residente in range(len(alunos)):\n",
    "    ind = alunos[residente][0] # Listas[lista][elementos_da_lista]\n",
    "    nome = alunos[residente][1]\n",
    "    idade = alunos[residente][2]\n",
    "    #Escrevendo no arquivo cada dado coletado das listas mais internas, que estão dentro da lista de alunos.\n",
    "    w.writerow([ind, nome, idade])\n",
    "\n",
    "#Fechando o arquivo normalmente\n",
    "arq.close()\n",
    "\n",
    "#Comentários de Davi Oliveira"
   ]
  },
  {
   "cell_type": "code",
   "execution_count": 14,
   "metadata": {},
   "outputs": [
    {
     "data": {
      "text/html": [
       "<div>\n",
       "<style scoped>\n",
       "    .dataframe tbody tr th:only-of-type {\n",
       "        vertical-align: middle;\n",
       "    }\n",
       "\n",
       "    .dataframe tbody tr th {\n",
       "        vertical-align: top;\n",
       "    }\n",
       "\n",
       "    .dataframe thead th {\n",
       "        text-align: right;\n",
       "    }\n",
       "</style>\n",
       "<table border=\"1\" class=\"dataframe\">\n",
       "  <thead>\n",
       "    <tr style=\"text-align: right;\">\n",
       "      <th></th>\n",
       "      <th>1</th>\n",
       "      <th>Alessandro</th>\n",
       "      <th>29</th>\n",
       "    </tr>\n",
       "  </thead>\n",
       "  <tbody>\n",
       "    <tr>\n",
       "      <th>0</th>\n",
       "      <td>2</td>\n",
       "      <td>Carlielson</td>\n",
       "      <td>29</td>\n",
       "    </tr>\n",
       "    <tr>\n",
       "      <th>1</th>\n",
       "      <td>3</td>\n",
       "      <td>Davysson</td>\n",
       "      <td>27</td>\n",
       "    </tr>\n",
       "    <tr>\n",
       "      <th>2</th>\n",
       "      <td>4</td>\n",
       "      <td>Davi</td>\n",
       "      <td>23</td>\n",
       "    </tr>\n",
       "    <tr>\n",
       "      <th>3</th>\n",
       "      <td>5</td>\n",
       "      <td>Erik</td>\n",
       "      <td>26</td>\n",
       "    </tr>\n",
       "    <tr>\n",
       "      <th>4</th>\n",
       "      <td>6</td>\n",
       "      <td>Hyago</td>\n",
       "      <td>25</td>\n",
       "    </tr>\n",
       "    <tr>\n",
       "      <th>5</th>\n",
       "      <td>7</td>\n",
       "      <td>Janiel</td>\n",
       "      <td>25</td>\n",
       "    </tr>\n",
       "    <tr>\n",
       "      <th>6</th>\n",
       "      <td>8</td>\n",
       "      <td>Johnson</td>\n",
       "      <td>23</td>\n",
       "    </tr>\n",
       "    <tr>\n",
       "      <th>7</th>\n",
       "      <td>9</td>\n",
       "      <td>Juliana</td>\n",
       "      <td>27</td>\n",
       "    </tr>\n",
       "    <tr>\n",
       "      <th>8</th>\n",
       "      <td>10</td>\n",
       "      <td>Kelvin</td>\n",
       "      <td>25</td>\n",
       "    </tr>\n",
       "    <tr>\n",
       "      <th>9</th>\n",
       "      <td>11</td>\n",
       "      <td>Livia</td>\n",
       "      <td>25</td>\n",
       "    </tr>\n",
       "    <tr>\n",
       "      <th>10</th>\n",
       "      <td>12</td>\n",
       "      <td>Lorena</td>\n",
       "      <td>26</td>\n",
       "    </tr>\n",
       "    <tr>\n",
       "      <th>11</th>\n",
       "      <td>13</td>\n",
       "      <td>Luan</td>\n",
       "      <td>23</td>\n",
       "    </tr>\n",
       "    <tr>\n",
       "      <th>12</th>\n",
       "      <td>14</td>\n",
       "      <td>Lucelia</td>\n",
       "      <td>36</td>\n",
       "    </tr>\n",
       "    <tr>\n",
       "      <th>13</th>\n",
       "      <td>15</td>\n",
       "      <td>Nathalia</td>\n",
       "      <td>24</td>\n",
       "    </tr>\n",
       "    <tr>\n",
       "      <th>14</th>\n",
       "      <td>16</td>\n",
       "      <td>Rafael</td>\n",
       "      <td>26</td>\n",
       "    </tr>\n",
       "    <tr>\n",
       "      <th>15</th>\n",
       "      <td>17</td>\n",
       "      <td>Robesvania</td>\n",
       "      <td>23</td>\n",
       "    </tr>\n",
       "    <tr>\n",
       "      <th>16</th>\n",
       "      <td>18</td>\n",
       "      <td>Robson</td>\n",
       "      <td>23</td>\n",
       "    </tr>\n",
       "    <tr>\n",
       "      <th>17</th>\n",
       "      <td>19</td>\n",
       "      <td>Valbert</td>\n",
       "      <td>38</td>\n",
       "    </tr>\n",
       "    <tr>\n",
       "      <th>18</th>\n",
       "      <td>20</td>\n",
       "      <td>Wesley</td>\n",
       "      <td>24</td>\n",
       "    </tr>\n",
       "  </tbody>\n",
       "</table>\n",
       "</div>"
      ],
      "text/plain": [
       "     1  Alessandro  29\n",
       "0    2  Carlielson  29\n",
       "1    3    Davysson  27\n",
       "2    4        Davi  23\n",
       "3    5        Erik  26\n",
       "4    6       Hyago  25\n",
       "5    7      Janiel  25\n",
       "6    8     Johnson  23\n",
       "7    9     Juliana  27\n",
       "8   10      Kelvin  25\n",
       "9   11       Livia  25\n",
       "10  12      Lorena  26\n",
       "11  13        Luan  23\n",
       "12  14     Lucelia  36\n",
       "13  15    Nathalia  24\n",
       "14  16      Rafael  26\n",
       "15  17  Robesvania  23\n",
       "16  18      Robson  23\n",
       "17  19     Valbert  38\n",
       "18  20      Wesley  24"
      ]
     },
     "execution_count": 14,
     "metadata": {},
     "output_type": "execute_result"
    }
   ],
   "source": [
    "import pandas as pd\n",
    "\n",
    "df = pd.read_csv('turma.csv')\n",
    "df"
   ]
  },
  {
   "cell_type": "markdown",
   "metadata": {
    "ExecuteTime": {
     "end_time": "2022-06-20T14:46:37.172113Z",
     "start_time": "2022-06-20T14:46:37.163573Z"
    }
   },
   "source": [
    "**2) Crie um novo arquivo soma_idade.csv que irá receber a soma das idades do arquivo turma.csv**\n",
    "- Exemplo (turma.csv)\n",
    "    - id, nome, idade\n",
    "    - 1, joão, 10\n",
    "    - 2, pedro, 20\n",
    "    - 3, maria, 30\n",
    "\n",
    "- Exemplo (soma.csv)\n",
    "    - soma,\n",
    "    - 60"
   ]
  },
  {
   "cell_type": "code",
   "execution_count": 4,
   "metadata": {},
   "outputs": [],
   "source": [
    "#abertura do arquivo \n",
    "with open('turma.csv', encoding='utf-8') as arquivo_referencia:\n",
    "    \n",
    "    #Realizando a leitura do csv coletado anteriormente\n",
    "    turma = csv.reader(arquivo_referencia, delimiter=',')\n",
    "    \n",
    "    #Criando o novo arquivo para armazenar a soma das idades\n",
    "    arq2 = open('soma_idade.csv', 'w', newline='', encoding='utf-8')\n",
    "    \n",
    "    #Vetor auxiliar para colocar como Rótulo da Coluna\n",
    "    aux = ['soma']\n",
    "    \n",
    "    #Criando uma caneta para escrever no arquivo de soma das idades\n",
    "    w2 = csv.writer(arq2)\n",
    "    \n",
    "    soma = 0\n",
    "    #buscando a idade no arquivo de csv\n",
    "    for residente in turma:\n",
    "        idade = residente[2]\n",
    "        soma += int(idade)\n",
    "    \n",
    "    #Escrevendo o Rótulo da Coluna\n",
    "    w2.writerow([aux[0]])\n",
    "    #Escrevendo o resultado da soma das idades dos alunos\n",
    "    w2.writerow([soma])\n",
    "    \n",
    "    #Fechando o arquivo normalmente\n",
    "    arq.close()\n",
    "    \n",
    "    #Comentários de Davi Oliveira"
   ]
  },
  {
   "cell_type": "code",
   "execution_count": 15,
   "metadata": {},
   "outputs": [
    {
     "data": {
      "text/html": [
       "<div>\n",
       "<style scoped>\n",
       "    .dataframe tbody tr th:only-of-type {\n",
       "        vertical-align: middle;\n",
       "    }\n",
       "\n",
       "    .dataframe tbody tr th {\n",
       "        vertical-align: top;\n",
       "    }\n",
       "\n",
       "    .dataframe thead th {\n",
       "        text-align: right;\n",
       "    }\n",
       "</style>\n",
       "<table border=\"1\" class=\"dataframe\">\n",
       "  <thead>\n",
       "    <tr style=\"text-align: right;\">\n",
       "      <th></th>\n",
       "      <th>soma</th>\n",
       "    </tr>\n",
       "  </thead>\n",
       "  <tbody>\n",
       "    <tr>\n",
       "      <th>0</th>\n",
       "      <td>527</td>\n",
       "    </tr>\n",
       "  </tbody>\n",
       "</table>\n",
       "</div>"
      ],
      "text/plain": [
       "   soma\n",
       "0   527"
      ]
     },
     "execution_count": 15,
     "metadata": {},
     "output_type": "execute_result"
    }
   ],
   "source": [
    "df2 = pd.read_csv('soma_idade.csv')\n",
    "df2"
   ]
  }
 ],
 "metadata": {
  "kernelspec": {
   "display_name": "Python 3 (ipykernel)",
   "language": "python",
   "name": "python3"
  },
  "language_info": {
   "codemirror_mode": {
    "name": "ipython",
    "version": 3
   },
   "file_extension": ".py",
   "mimetype": "text/x-python",
   "name": "python",
   "nbconvert_exporter": "python",
   "pygments_lexer": "ipython3",
   "version": "3.9.12"
  }
 },
 "nbformat": 4,
 "nbformat_minor": 4
}
